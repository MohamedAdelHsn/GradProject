{
  "nbformat": 4,
  "nbformat_minor": 0,
  "metadata": {
    "colab": {
      "name": "Cleaning the Dataset.ipynb",
      "provenance": []
    },
    "kernelspec": {
      "name": "python3",
      "display_name": "Python 3"
    },
    "language_info": {
      "name": "python"
    }
  },
  "cells": [
    {
      "cell_type": "code",
      "source": [
        "import pandas as pd\n",
        "import re\n",
        "from datetime import date\n",
        "from google.colab import files\n",
        "df = pd.read_csv(\"/content/drive/MyDrive/Graduation Project/300k records [not cleaned].csv\")"
      ],
      "metadata": {
        "id": "eL1LoF2FfWZt"
      },
      "execution_count": null,
      "outputs": []
    },
    {
      "cell_type": "code",
      "source": [
        "# Clean Reviews\n",
        "# #######################################\n",
        "\n",
        "df['Text (cleaned)'] = [0] * len(df)\n",
        "df['Date (cleaned)'] = [0] * len(df)\n",
        "for i in range(0, len(df)):\n",
        "  text = df['Text'][i]\n",
        "  text = text.lower();\n",
        "  # Remove links\n",
        "  text = re.sub(\"((http|https)\\:\\/\\/)?[a-zA-Z0-9\\.\\/\\?\\:@\\-_=#]+\\.([a-zA-Z]){2,6}([a-zA-Z0-9\\.\\&\\/\\?\\:@\\-_=#])*\", \"\", text)\n",
        "  # Remove HTML\n",
        "  text = re.sub(\"<.*?>\", \" \", text)\n",
        "  # Remove anything but sentences\n",
        "  text = re.sub(\"[^\\w\\s.,'!?-]\", \"\", text)\n",
        "  df.loc[i, 'Text (cleaned)'] = text\n",
        "\n",
        "  # Turn timestamps into dates\n",
        "  timestamp = df['Time'][i]\n",
        "  new_date = date.fromtimestamp(timestamp)\n",
        "  df.loc[i, 'Date (cleaned)'] = new_date"
      ],
      "metadata": {
        "id": "o6htoT7ISrse"
      },
      "execution_count": null,
      "outputs": []
    },
    {
      "cell_type": "code",
      "source": [
        "df.to_csv('Cleaned 300k Records.csv')"
      ],
      "metadata": {
        "id": "669SwScbm0Mn"
      },
      "execution_count": null,
      "outputs": []
    }
  ]
}